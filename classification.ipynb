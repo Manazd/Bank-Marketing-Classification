{
  "cells": [
    {
      "cell_type": "code",
      "execution_count": 67,
      "metadata": {},
      "outputs": [],
      "source": [
        "student_name = 'Mana Abbaszadeh'\n",
        "student_number = '400109638'"
      ]
    },
    {
      "cell_type": "markdown",
      "metadata": {
        "id": "MT-ucU8DVPt8"
      },
      "source": [
        "# Bank Marketing Classification\n",
        "\n",
        "In this part of the assignment we want to do a classification task using PyTorch on bank marketing dataset."
      ]
    },
    {
      "cell_type": "markdown",
      "metadata": {
        "id": "rZlNNmgqYkV4"
      },
      "source": [
        "#Import Library"
      ]
    },
    {
      "cell_type": "code",
      "execution_count": 68,
      "metadata": {
        "id": "NOh9eJ4pYnu2"
      },
      "outputs": [],
      "source": [
        "import torch\n",
        "import torch.nn as nn\n",
        "import torch.optim as optim\n",
        "import pandas as pd\n",
        "from tqdm import tqdm\n",
        "import numpy as np\n",
        "import matplotlib.pyplot as plt\n",
        "from sklearn.model_selection import train_test_split\n",
        "from sklearn.preprocessing import StandardScaler, LabelEncoder\n",
        "from torch.utils.data import DataLoader, TensorDataset"
      ]
    },
    {
      "cell_type": "markdown",
      "metadata": {
        "id": "EJaMVgX1XcZm"
      },
      "source": [
        "#Load Dataset\n",
        "Here, you should download and load the dataset. After that, you should split train dataset to train and validation sets. Finally, define the dataloaders for `train`, `validation` and `test`"
      ]
    },
    {
      "cell_type": "markdown",
      "metadata": {},
      "source": [
        "- %80 training set - %20 val_test --> (%50 validation, %50 test):"
      ]
    },
    {
      "cell_type": "code",
      "execution_count": 69,
      "metadata": {
        "id": "9YSstSPUXwu2"
      },
      "outputs": [
        {
          "name": "stdout",
          "output_type": "stream",
          "text": [
            "   age           job  marital  education default  balance housing loan  \\\n",
            "0   58    management  married   tertiary      no     2143     yes   no   \n",
            "1   44    technician   single  secondary      no       29     yes   no   \n",
            "2   33  entrepreneur  married  secondary      no        2     yes  yes   \n",
            "3   47   blue-collar  married    unknown      no     1506     yes   no   \n",
            "4   33       unknown   single    unknown      no        1      no   no   \n",
            "\n",
            "   contact  day month  duration  campaign  pdays  previous poutcome   y  \n",
            "0  unknown    5   may       261         1     -1         0  unknown  no  \n",
            "1  unknown    5   may       151         1     -1         0  unknown  no  \n",
            "2  unknown    5   may        76         1     -1         0  unknown  no  \n",
            "3  unknown    5   may        92         1     -1         0  unknown  no  \n",
            "4  unknown    5   may       198         1     -1         0  unknown  no  \n"
          ]
        }
      ],
      "source": [
        "#TODO\n",
        "df = pd.read_csv('bank-full.csv', sep=';')\n",
        "print(df.head())\n",
        "\n",
        "label_encoders = {}\n",
        "categorical_cols = df.select_dtypes(include=['object']).columns\n",
        "for cols in categorical_cols:\n",
        "    label_encoders[cols] = LabelEncoder()\n",
        "    df[cols] = label_encoders[cols].fit_transform(df[cols])\n",
        "\n",
        "X = df.drop('y', axis=1).values\n",
        "y = df['y'].values\n",
        "\n",
        "scaler = StandardScaler()\n",
        "X = scaler.fit_transform(X)\n",
        "\n",
        "X_train, X_val_test, y_train, y_val_test = train_test_split(X, y, test_size=0.2, random_state=42)\n",
        "X_val, X_test, y_val, y_test = train_test_split(X_val_test, y_val_test, test_size=0.5, random_state=42)\n"
      ]
    },
    {
      "cell_type": "markdown",
      "metadata": {
        "id": "Keip2OUFX8qk"
      },
      "source": [
        "#Normalize data\n",
        "normalize numerical data."
      ]
    },
    {
      "cell_type": "code",
      "execution_count": 88,
      "metadata": {
        "id": "e-Wk_AoiYfo4"
      },
      "outputs": [
        {
          "data": {
            "text/plain": [
              "\"\\nI normalized all the data including numerical in the previous section in this part:\\n\\n\\nlabel_encoders = {}\\ncategorical_columns = df.select_dtypes(include=['object']).columns\\nfor column in categorical_columns:\\n    label_encoders[column] = LabelEncoder()\\n    df[column] = label_encoders[column].fit_transform(df[column])\\n\\nX = df.drop('y', axis=1).values\\ny = df['y'].values\\n\\nscaler = StandardScaler()\\nX = scaler.fit_transform(X)\\n\\n\\nAfter this I splitted the data into test, validation and training set. So I won't do this here again!\\n\\n\""
            ]
          },
          "execution_count": 88,
          "metadata": {},
          "output_type": "execute_result"
        }
      ],
      "source": [
        "# Normalize numerical data\n",
        "\n",
        "\"\"\"\n",
        "I normalized all the data including numerical in the previous section in this part:\n",
        "\n",
        "\n",
        "label_encoders = {}\n",
        "categorical_columns = df.select_dtypes(include=['object']).columns\n",
        "for column in categorical_columns:\n",
        "    label_encoders[column] = LabelEncoder()\n",
        "    df[column] = label_encoders[column].fit_transform(df[column])\n",
        "\n",
        "X = df.drop('y', axis=1).values\n",
        "y = df['y'].values\n",
        "\n",
        "scaler = StandardScaler()\n",
        "X = scaler.fit_transform(X)\n",
        "\n",
        "\n",
        "After this I splitted the data into test, validation and training set. So I won't do this here again!\n",
        "\n",
        "\"\"\""
      ]
    },
    {
      "cell_type": "markdown",
      "metadata": {
        "id": "8TnDg_OtYrWl"
      },
      "source": [
        "# Create Data Loader\n",
        "create data loader for pytorch"
      ]
    },
    {
      "cell_type": "code",
      "execution_count": 71,
      "metadata": {
        "id": "yIdgxZMUYqzE"
      },
      "outputs": [
        {
          "name": "stdout",
          "output_type": "stream",
          "text": [
            "Setting data was successful!\n"
          ]
        }
      ],
      "source": [
        "#TODO\n",
        "X_train_tensor = torch.tensor(X_train, dtype=torch.float32)\n",
        "y_train_tensor = torch.tensor(y_train, dtype=torch.long)\n",
        "X_test_tensor = torch.tensor(X_test, dtype=torch.float32)\n",
        "y_test_tensor = torch.tensor(y_test, dtype=torch.long)\n",
        "X_val_tensor = torch.tensor(X_val, dtype=torch.float32)\n",
        "y_val_tensor = torch.tensor(y_val, dtype=torch.long)\n",
        "\n",
        "\n",
        "tensor_train_dataset = TensorDataset(X_train_tensor, y_train_tensor)\n",
        "tensor_val_dataset = TensorDataset(X_val_tensor, y_val_tensor)\n",
        "tensor_test_dataset = TensorDataset(X_test_tensor, y_test_tensor)\n",
        "\n",
        "train_loader = DataLoader(tensor_train_dataset, batch_size=32, shuffle=True)\n",
        "val_loader = DataLoader(tensor_val_dataset, batch_size=32, shuffle=False)\n",
        "test_loader = DataLoader(tensor_test_dataset, batch_size=32, shuffle=False)\n",
        "\n",
        "print('Setting data was successful!')"
      ]
    },
    {
      "cell_type": "markdown",
      "metadata": {
        "id": "GBtQo2PBY9zS"
      },
      "source": [
        "#Model\n",
        "define your model in here"
      ]
    },
    {
      "cell_type": "code",
      "execution_count": 82,
      "metadata": {
        "id": "C5k1GGexZCGD"
      },
      "outputs": [],
      "source": [
        "class BankMarketingNet(nn.Module):\n",
        "    def __init__(self, input_dim, output_dim, hidden_dim):\n",
        "        super(BankMarketingNet, self).__init__()\n",
        "        self.fc1 = nn.Linear(input_dim, hidden_dim)\n",
        "        self.relu = nn.ReLU()\n",
        "        self.fc2 = nn.Linear(hidden_dim, output_dim)\n",
        "        pass\n",
        "\n",
        "\n",
        "    def forward(self, x):\n",
        "        out = self.fc1(x)\n",
        "        out = self.relu(out)\n",
        "        out = self.fc2(out)\n",
        "        return out\n",
        "        pass"
      ]
    },
    {
      "cell_type": "code",
      "execution_count": 83,
      "metadata": {},
      "outputs": [],
      "source": [
        "input_dim = X_train.shape[1]\n",
        "output_dim = 2\n",
        "hidden_dim = 64\n",
        "model = BankMarketingNet(input_dim, output_dim, hidden_dim)"
      ]
    },
    {
      "cell_type": "markdown",
      "metadata": {
        "id": "P_ef2VVkZHpj"
      },
      "source": [
        "#Train your model\n",
        "Define `criterion` and `optimizer`.\n",
        "Train your model\n",
        "\n",
        "Tasks:\n",
        "- [ ] Things that are needed to be printed in each epoch:\n",
        "  - Number of epoch\n",
        "  - Train loss\n",
        "  - Validation loss\n",
        "- [ ] save train/validation loss (of each epoch) in an array for later usage"
      ]
    },
    {
      "cell_type": "code",
      "execution_count": 85,
      "metadata": {
        "colab": {
          "base_uri": "https://localhost:8080/"
        },
        "id": "7BC2acuYZH0j",
        "outputId": "813dc792-19f9-47ea-f65d-ceb1553aef10"
      },
      "outputs": [
        {
          "name": "stderr",
          "output_type": "stream",
          "text": [
            "Epoch 1/20, Loss: 0.3328: 100%|██████████| 1131/1131 [00:04<00:00, 234.81it/s]\n"
          ]
        },
        {
          "name": "stdout",
          "output_type": "stream",
          "text": [
            "Train_Loss: 0.2214, Validation_Loss: 0.2351\n"
          ]
        },
        {
          "name": "stderr",
          "output_type": "stream",
          "text": [
            "Epoch 2/20, Loss: 0.1047: 100%|██████████| 1131/1131 [00:04<00:00, 241.48it/s]\n"
          ]
        },
        {
          "name": "stdout",
          "output_type": "stream",
          "text": [
            "Train_Loss: 0.2207, Validation_Loss: 0.2342\n"
          ]
        },
        {
          "name": "stderr",
          "output_type": "stream",
          "text": [
            "Epoch 3/20, Loss: 0.0719: 100%|██████████| 1131/1131 [00:04<00:00, 242.43it/s]\n"
          ]
        },
        {
          "name": "stdout",
          "output_type": "stream",
          "text": [
            "Train_Loss: 0.2203, Validation_Loss: 0.2328\n"
          ]
        },
        {
          "name": "stderr",
          "output_type": "stream",
          "text": [
            "Epoch 4/20, Loss: 0.3896: 100%|██████████| 1131/1131 [00:04<00:00, 234.60it/s]\n"
          ]
        },
        {
          "name": "stdout",
          "output_type": "stream",
          "text": [
            "Train_Loss: 0.2200, Validation_Loss: 0.2333\n"
          ]
        },
        {
          "name": "stderr",
          "output_type": "stream",
          "text": [
            "Epoch 5/20, Loss: 0.5410: 100%|██████████| 1131/1131 [00:04<00:00, 226.99it/s]\n"
          ]
        },
        {
          "name": "stdout",
          "output_type": "stream",
          "text": [
            "Train_Loss: 0.2190, Validation_Loss: 0.2352\n"
          ]
        },
        {
          "name": "stderr",
          "output_type": "stream",
          "text": [
            "Epoch 6/20, Loss: 0.0721: 100%|██████████| 1131/1131 [00:04<00:00, 244.99it/s]\n"
          ]
        },
        {
          "name": "stdout",
          "output_type": "stream",
          "text": [
            "Train_Loss: 0.2187, Validation_Loss: 0.2333\n"
          ]
        },
        {
          "name": "stderr",
          "output_type": "stream",
          "text": [
            "Epoch 7/20, Loss: 0.4239: 100%|██████████| 1131/1131 [00:04<00:00, 239.32it/s]\n"
          ]
        },
        {
          "name": "stdout",
          "output_type": "stream",
          "text": [
            "Train_Loss: 0.2182, Validation_Loss: 0.2349\n"
          ]
        },
        {
          "name": "stderr",
          "output_type": "stream",
          "text": [
            "Epoch 8/20, Loss: 0.0608: 100%|██████████| 1131/1131 [00:04<00:00, 234.56it/s]\n"
          ]
        },
        {
          "name": "stdout",
          "output_type": "stream",
          "text": [
            "Train_Loss: 0.2175, Validation_Loss: 0.2330\n"
          ]
        },
        {
          "name": "stderr",
          "output_type": "stream",
          "text": [
            "Epoch 9/20, Loss: 0.2898: 100%|██████████| 1131/1131 [00:04<00:00, 236.05it/s]\n"
          ]
        },
        {
          "name": "stdout",
          "output_type": "stream",
          "text": [
            "Train_Loss: 0.2174, Validation_Loss: 0.2339\n"
          ]
        },
        {
          "name": "stderr",
          "output_type": "stream",
          "text": [
            "Epoch 10/20, Loss: 0.2474: 100%|██████████| 1131/1131 [00:04<00:00, 242.33it/s]\n"
          ]
        },
        {
          "name": "stdout",
          "output_type": "stream",
          "text": [
            "Train_Loss: 0.2167, Validation_Loss: 0.2338\n"
          ]
        },
        {
          "name": "stderr",
          "output_type": "stream",
          "text": [
            "Epoch 11/20, Loss: 0.1376: 100%|██████████| 1131/1131 [00:04<00:00, 234.56it/s]\n"
          ]
        },
        {
          "name": "stdout",
          "output_type": "stream",
          "text": [
            "Train_Loss: 0.2160, Validation_Loss: 0.2331\n"
          ]
        },
        {
          "name": "stderr",
          "output_type": "stream",
          "text": [
            "Epoch 12/20, Loss: 0.0573: 100%|██████████| 1131/1131 [00:04<00:00, 237.08it/s]\n"
          ]
        },
        {
          "name": "stdout",
          "output_type": "stream",
          "text": [
            "Train_Loss: 0.2157, Validation_Loss: 0.2347\n"
          ]
        },
        {
          "name": "stderr",
          "output_type": "stream",
          "text": [
            "Epoch 13/20, Loss: 0.1800: 100%|██████████| 1131/1131 [00:04<00:00, 236.19it/s]\n"
          ]
        },
        {
          "name": "stdout",
          "output_type": "stream",
          "text": [
            "Train_Loss: 0.2152, Validation_Loss: 0.2333\n"
          ]
        },
        {
          "name": "stderr",
          "output_type": "stream",
          "text": [
            "Epoch 14/20, Loss: 0.0762: 100%|██████████| 1131/1131 [00:04<00:00, 253.43it/s]\n"
          ]
        },
        {
          "name": "stdout",
          "output_type": "stream",
          "text": [
            "Train_Loss: 0.2147, Validation_Loss: 0.2351\n"
          ]
        },
        {
          "name": "stderr",
          "output_type": "stream",
          "text": [
            "Epoch 15/20, Loss: 0.0957: 100%|██████████| 1131/1131 [00:04<00:00, 253.99it/s]\n"
          ]
        },
        {
          "name": "stdout",
          "output_type": "stream",
          "text": [
            "Train_Loss: 0.2144, Validation_Loss: 0.2359\n"
          ]
        },
        {
          "name": "stderr",
          "output_type": "stream",
          "text": [
            "Epoch 16/20, Loss: 0.1996: 100%|██████████| 1131/1131 [00:04<00:00, 254.06it/s]\n"
          ]
        },
        {
          "name": "stdout",
          "output_type": "stream",
          "text": [
            "Train_Loss: 0.2141, Validation_Loss: 0.2328\n"
          ]
        },
        {
          "name": "stderr",
          "output_type": "stream",
          "text": [
            "Epoch 17/20, Loss: 0.2531: 100%|██████████| 1131/1131 [00:04<00:00, 258.69it/s]\n"
          ]
        },
        {
          "name": "stdout",
          "output_type": "stream",
          "text": [
            "Train_Loss: 0.2142, Validation_Loss: 0.2327\n"
          ]
        },
        {
          "name": "stderr",
          "output_type": "stream",
          "text": [
            "Epoch 18/20, Loss: 0.1288: 100%|██████████| 1131/1131 [00:04<00:00, 250.59it/s]\n"
          ]
        },
        {
          "name": "stdout",
          "output_type": "stream",
          "text": [
            "Train_Loss: 0.2135, Validation_Loss: 0.2349\n"
          ]
        },
        {
          "name": "stderr",
          "output_type": "stream",
          "text": [
            "Epoch 19/20, Loss: 0.4640: 100%|██████████| 1131/1131 [00:04<00:00, 249.60it/s]\n"
          ]
        },
        {
          "name": "stdout",
          "output_type": "stream",
          "text": [
            "Train_Loss: 0.2134, Validation_Loss: 0.2373\n"
          ]
        },
        {
          "name": "stderr",
          "output_type": "stream",
          "text": [
            "Epoch 20/20, Loss: 0.1006: 100%|██████████| 1131/1131 [00:04<00:00, 242.70it/s]\n"
          ]
        },
        {
          "name": "stdout",
          "output_type": "stream",
          "text": [
            "Train_Loss: 0.2129, Validation_Loss: 0.2348\n"
          ]
        }
      ],
      "source": [
        "#TODO\n",
        "cross_entropy_loss = nn.CrossEntropyLoss()\n",
        "optimizer = optim.Adam(model.parameters(), lr=0.001)\n",
        "\n",
        "num_epochs = 20\n",
        "train_losses = []\n",
        "val_losses = []\n",
        "\n",
        "for epoch in range(num_epochs):\n",
        "    model.train()\n",
        "    running_loss = 0.0\n",
        "    bar = tqdm(enumerate(train_loader), total=len(train_loader))\n",
        "    for idx, (ins, labels) in bar:\n",
        "        optimizer.zero_grad()\n",
        "        out = model(ins)\n",
        "        loss = cross_entropy_loss(out, labels)\n",
        "        loss.backward()\n",
        "        optimizer.step()\n",
        "        running_loss += ins.size(0) * loss.item()\n",
        "        bar.set_description(f'Epoch {epoch + 1}/{num_epochs}, Loss: {loss.item():.4f}')\n",
        "    \n",
        "    total_len = len(train_loader.dataset)\n",
        "    epoch_loss = running_loss / total_len\n",
        "    train_losses.append(epoch_loss)\n",
        "\n",
        "    \n",
        "    model.eval()\n",
        "    total = 0\n",
        "    correct = 0\n",
        "    validation_loss = 0.0\n",
        "    with torch.no_grad():\n",
        "        for ins, labels in val_loader:\n",
        "            out = model(ins)\n",
        "            loss = cross_entropy_loss(out, labels)\n",
        "            validation_loss += ins.size(0) * loss.item()\n",
        "            i , pred = torch.max(out, 1)\n",
        "            total += labels.size(0)\n",
        "            correct += (pred == labels).sum().item()\n",
        "    \n",
        "    total_len = len(val_loader.dataset)\n",
        "    validation_loss = validation_loss / total_len\n",
        "    val_losses.append(validation_loss)\n",
        "    \n",
        "    print(f'Train_Loss: {epoch_loss:.4f}, Validation_Loss: {validation_loss:.4f}')\n"
      ]
    },
    {
      "cell_type": "markdown",
      "metadata": {
        "id": "OIFKhbNweZzc"
      },
      "source": [
        "### Visualize Loss plot\n",
        "\n",
        "Using the arrays that you have (from previous task in the above section), visualize Loss plot (train and validation together)"
      ]
    },
    {
      "cell_type": "code",
      "execution_count": 86,
      "metadata": {
        "colab": {
          "base_uri": "https://localhost:8080/",
          "height": 452
        },
        "id": "-uTbAB5YemMp",
        "outputId": "c788e62e-3784-4882-c780-4fd58135eba1"
      },
      "outputs": [
        {
          "data": {
            "image/png": "[encoded data removed]",
            "text/plain": [
              "<Figure size 640x480 with 1 Axes>"
            ]
          },
          "metadata": {},
          "output_type": "display_data"
        }
      ],
      "source": [
        "#TODO\n",
        "plt.plot(train_losses, label='Train Loss')\n",
        "plt.plot(val_losses, label='Validation Loss')\n",
        "plt.xlabel('Epoch')\n",
        "plt.ylabel('Loss')\n",
        "plt.title('Train and Val Loss')\n",
        "plt.legend()\n",
        "plt.show()"
      ]
    },
    {
      "cell_type": "markdown",
      "metadata": {
        "id": "MRo2s0wMakLe"
      },
      "source": [
        "## Evaluation\n",
        "\n",
        "Test your trained model (using the Test Dataloader that you have)."
      ]
    },
    {
      "cell_type": "code",
      "execution_count": 87,
      "metadata": {
        "colab": {
          "base_uri": "https://localhost:8080/"
        },
        "id": "6TplSeYPakTT",
        "outputId": "fee4dbf4-6a55-423f-d051-262cbbac427b"
      },
      "outputs": [
        {
          "name": "stdout",
          "output_type": "stream",
          "text": [
            "Test Loss: 0.2353342978999658\n",
            "Accuracy: 89.80539584254754%\n"
          ]
        }
      ],
      "source": [
        "#TODO\n",
        "model.eval()\n",
        "total = 0\n",
        "correct = 0\n",
        "test_loss = 0.0\n",
        "\n",
        "with torch.no_grad():\n",
        "    for ins, labels in test_loader:\n",
        "        out = model(ins)\n",
        "        loss = cross_entropy_loss(out, labels)\n",
        "        test_loss += ins.size(0) * loss.item()\n",
        "        i, pred = torch.max(out, 1)\n",
        "        total += labels.size(0)\n",
        "        correct += (pred == labels).sum().item()\n",
        "\n",
        "total_len = len(test_loader.dataset)\n",
        "test_loss = test_loss / total_len\n",
        "test_accuracy = correct / total\n",
        "\n",
        "print(f'Test Loss: {test_loss:}')\n",
        "print(f'Accuracy: {test_accuracy * 100:}%')\n"
      ]
    }
  ],
  "metadata": {
    "accelerator": "GPU",
    "colab": {
      "gpuType": "T4",
      "provenance": []
    },
    "kernelspec": {
      "display_name": "Python 3.10.6 64-bit",
      "language": "python",
      "name": "python3"
    },
    "language_info": {
      "codemirror_mode": {
        "name": "ipython",
        "version": 3
      },
      "file_extension": ".py",
      "mimetype": "text/x-python",
      "name": "python",
      "nbconvert_exporter": "python",
      "pygments_lexer": "ipython3",
      "version": "3.10.6"
    },
    "vscode": {
      "interpreter": {
        "hash": "9280cfe3a885ab6393e840bb0851a2b8b9319602f57c283749909a607b67fea4"
      }
    }
  },
  "nbformat": 4,
  "nbformat_minor": 0
}
